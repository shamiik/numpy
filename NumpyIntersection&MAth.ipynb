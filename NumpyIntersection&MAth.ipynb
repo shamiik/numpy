{
  "nbformat": 4,
  "nbformat_minor": 0,
  "metadata": {
    "colab": {
      "provenance": [],
      "authorship_tag": "ABX9TyNokz7Lh2IKOTTMWPrgu1Rx"
    },
    "kernelspec": {
      "name": "python3",
      "display_name": "Python 3"
    },
    "language_info": {
      "name": "python"
    }
  },
  "cells": [
    {
      "cell_type": "markdown",
      "source": [
        "**`Numpy Intersection & Difference`**"
      ],
      "metadata": {
        "id": "DkX68qVXMzyq"
      }
    },
    {
      "cell_type": "code",
      "execution_count": null,
      "metadata": {
        "id": "rvy4SBEsMoZK"
      },
      "outputs": [],
      "source": []
    }
  ]
}