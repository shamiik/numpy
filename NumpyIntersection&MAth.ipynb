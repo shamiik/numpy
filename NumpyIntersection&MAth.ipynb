{
  "nbformat": 4,
  "nbformat_minor": 0,
  "metadata": {
    "colab": {
      "provenance": [],
      "authorship_tag": "ABX9TyPV+sqTu1dVIY7BWtLwwLvB",
      "include_colab_link": true
    },
    "kernelspec": {
      "name": "python3",
      "display_name": "Python 3"
    },
    "language_info": {
      "name": "python"
    }
  },
  "cells": [
    {
      "cell_type": "markdown",
      "metadata": {
        "id": "view-in-github",
        "colab_type": "text"
      },
      "source": [
        "<a href=\"https://colab.research.google.com/github/shamiik/numpy/blob/main/NumpyIntersection%26MAth.ipynb\" target=\"_parent\"><img src=\"https://colab.research.google.com/assets/colab-badge.svg\" alt=\"Open In Colab\"/></a>"
      ]
    },
    {
      "cell_type": "markdown",
      "source": [
        "**`Numpy Intersection & Difference`**"
      ],
      "metadata": {
        "id": "DkX68qVXMzyq"
      }
    },
    {
      "cell_type": "code",
      "execution_count": 11,
      "metadata": {
        "id": "rvy4SBEsMoZK"
      },
      "outputs": [],
      "source": [
        "import numpy as np\n",
        "n1 = np.array([10,20,30,40])\n",
        "n2= np.array([30,40,50,60,70])"
      ]
    },
    {
      "cell_type": "code",
      "source": [
        "np.intersect1d(n1,n2)   #common element of n1 & n2"
      ],
      "metadata": {
        "colab": {
          "base_uri": "https://localhost:8080/"
        },
        "id": "JuYrlCsESKcg",
        "outputId": "c5da7795-8f95-4dfc-e3a7-2e9412a28ff9"
      },
      "execution_count": 16,
      "outputs": [
        {
          "output_type": "execute_result",
          "data": {
            "text/plain": [
              "array([30, 40])"
            ]
          },
          "metadata": {},
          "execution_count": 16
        }
      ]
    },
    {
      "cell_type": "code",
      "source": [
        "np.setdiff1d(n1,n2) #unique element of n1 (n1 as 1st parameter)"
      ],
      "metadata": {
        "colab": {
          "base_uri": "https://localhost:8080/"
        },
        "id": "oYeXjUnyRAlO",
        "outputId": "d71dcb15-aea0-497e-b5c5-63f0dfad53c4"
      },
      "execution_count": 8,
      "outputs": [
        {
          "output_type": "execute_result",
          "data": {
            "text/plain": [
              "array([10, 20])"
            ]
          },
          "metadata": {},
          "execution_count": 8
        }
      ]
    },
    {
      "cell_type": "code",
      "source": [
        "np.setdiff1d(n2,n1) #unique element of n2  (n2 as 1st paprameter)"
      ],
      "metadata": {
        "colab": {
          "base_uri": "https://localhost:8080/"
        },
        "id": "n1t7s0XDRo6F",
        "outputId": "f8ad319e-8a33-435f-9cc2-7cf5a34b1692"
      },
      "execution_count": 9,
      "outputs": [
        {
          "output_type": "execute_result",
          "data": {
            "text/plain": [
              "array([50, 60, 70])"
            ]
          },
          "metadata": {},
          "execution_count": 9
        }
      ]
    },
    {
      "cell_type": "markdown",
      "source": [
        "**Numpy Array Addition**"
      ],
      "metadata": {
        "id": "uLVNr62jShtP"
      }
    },
    {
      "cell_type": "code",
      "source": [
        "n3= np.array([10,20])\n",
        "n4= np.array([30,40])"
      ],
      "metadata": {
        "id": "Jbbb7vA2TwJX"
      },
      "execution_count": 17,
      "outputs": []
    },
    {
      "cell_type": "code",
      "source": [
        "np.sum([n3,n4])"
      ],
      "metadata": {
        "colab": {
          "base_uri": "https://localhost:8080/"
        },
        "id": "etcPz4M0UBPQ",
        "outputId": "2df5ec48-b961-4cb1-ed2a-8cd40a7a317e"
      },
      "execution_count": 19,
      "outputs": [
        {
          "output_type": "execute_result",
          "data": {
            "text/plain": [
              "100"
            ]
          },
          "metadata": {},
          "execution_count": 19
        }
      ]
    },
    {
      "cell_type": "code",
      "source": [
        "np.sum([n3,n4],axis=0) #colomn adding"
      ],
      "metadata": {
        "colab": {
          "base_uri": "https://localhost:8080/"
        },
        "id": "Gn1ZUyg-UGry",
        "outputId": "ff5848c4-5936-4442-c7d1-14ea7ec1f772"
      },
      "execution_count": 22,
      "outputs": [
        {
          "output_type": "execute_result",
          "data": {
            "text/plain": [
              "array([40, 60])"
            ]
          },
          "metadata": {},
          "execution_count": 22
        }
      ]
    },
    {
      "cell_type": "code",
      "source": [
        "np.sum([n3,n4],axis=1) #row adding"
      ],
      "metadata": {
        "colab": {
          "base_uri": "https://localhost:8080/"
        },
        "id": "W84aJke_UYGE",
        "outputId": "dd1fa7f8-a5ef-4372-dc5b-f541b0e1997d"
      },
      "execution_count": 23,
      "outputs": [
        {
          "output_type": "execute_result",
          "data": {
            "text/plain": [
              "array([30, 70])"
            ]
          },
          "metadata": {},
          "execution_count": 23
        }
      ]
    },
    {
      "cell_type": "markdown",
      "source": [
        "`Basic Addition in values`"
      ],
      "metadata": {
        "id": "Q65TOpriVA_X"
      }
    },
    {
      "cell_type": "code",
      "source": [
        "n5= np.array([10,20,30,40])"
      ],
      "metadata": {
        "id": "xTg6GsNOVGHf"
      },
      "execution_count": 24,
      "outputs": []
    },
    {
      "cell_type": "code",
      "source": [
        "n5+1"
      ],
      "metadata": {
        "colab": {
          "base_uri": "https://localhost:8080/"
        },
        "id": "yEjoSHO8VTgg",
        "outputId": "c612e517-2cdd-4cb0-9d51-f952c93c34b4"
      },
      "execution_count": 25,
      "outputs": [
        {
          "output_type": "execute_result",
          "data": {
            "text/plain": [
              "array([11, 21, 31, 41])"
            ]
          },
          "metadata": {},
          "execution_count": 25
        }
      ]
    },
    {
      "cell_type": "code",
      "source": [
        "n5+5"
      ],
      "metadata": {
        "colab": {
          "base_uri": "https://localhost:8080/"
        },
        "id": "6sNgKnuoVXy2",
        "outputId": "c7c5dd10-1b12-42fc-cedb-f41c145338cc"
      },
      "execution_count": 27,
      "outputs": [
        {
          "output_type": "execute_result",
          "data": {
            "text/plain": [
              "array([15, 25, 35, 45])"
            ]
          },
          "metadata": {},
          "execution_count": 27
        }
      ]
    },
    {
      "cell_type": "markdown",
      "source": [
        "`Basic Subtraction`"
      ],
      "metadata": {
        "id": "9UNsTfRHVf6W"
      }
    },
    {
      "cell_type": "code",
      "source": [
        "n5-1"
      ],
      "metadata": {
        "colab": {
          "base_uri": "https://localhost:8080/"
        },
        "id": "zb7jr1vDVh2t",
        "outputId": "b74c0337-cd42-4c7a-8c84-882f57772a45"
      },
      "execution_count": 29,
      "outputs": [
        {
          "output_type": "execute_result",
          "data": {
            "text/plain": [
              "array([ 9, 19, 29, 39])"
            ]
          },
          "metadata": {},
          "execution_count": 29
        }
      ]
    },
    {
      "cell_type": "markdown",
      "source": [
        "`Basic Multiplication`"
      ],
      "metadata": {
        "id": "GTSEQ_3cVmTm"
      }
    },
    {
      "cell_type": "code",
      "source": [
        "n5*2"
      ],
      "metadata": {
        "colab": {
          "base_uri": "https://localhost:8080/"
        },
        "id": "2MXknxDvVsjp",
        "outputId": "229bfc6e-26c6-410f-d10c-8fb33bfcb945"
      },
      "execution_count": 30,
      "outputs": [
        {
          "output_type": "execute_result",
          "data": {
            "text/plain": [
              "array([20, 40, 60, 80])"
            ]
          },
          "metadata": {},
          "execution_count": 30
        }
      ]
    },
    {
      "cell_type": "markdown",
      "source": [
        "`Basic division`"
      ],
      "metadata": {
        "id": "Cawc2cFdVwb4"
      }
    },
    {
      "cell_type": "code",
      "source": [
        "n5/2"
      ],
      "metadata": {
        "colab": {
          "base_uri": "https://localhost:8080/"
        },
        "id": "sKQtqAapVydy",
        "outputId": "5a2837d1-4490-47a9-99a7-38b8dd9c29a2"
      },
      "execution_count": 31,
      "outputs": [
        {
          "output_type": "execute_result",
          "data": {
            "text/plain": [
              "array([ 5., 10., 15., 20.])"
            ]
          },
          "metadata": {},
          "execution_count": 31
        }
      ]
    },
    {
      "cell_type": "markdown",
      "source": [
        "`Mean Value`"
      ],
      "metadata": {
        "id": "xbz_NOMdV7F9"
      }
    },
    {
      "cell_type": "code",
      "source": [
        "n6= np.array([10,15,20,25,30,35])\n",
        "np.mean(n6)"
      ],
      "metadata": {
        "colab": {
          "base_uri": "https://localhost:8080/"
        },
        "id": "JlmUnnDRV_Vj",
        "outputId": "6d40f98a-db0a-452d-eed5-ebc06e99d2de"
      },
      "execution_count": 34,
      "outputs": [
        {
          "output_type": "execute_result",
          "data": {
            "text/plain": [
              "22.5"
            ]
          },
          "metadata": {},
          "execution_count": 34
        }
      ]
    },
    {
      "cell_type": "markdown",
      "source": [
        "`Standard Deviation`"
      ],
      "metadata": {
        "id": "d9QSIdrCWa_I"
      }
    },
    {
      "cell_type": "code",
      "source": [
        "np.std(n6)"
      ],
      "metadata": {
        "colab": {
          "base_uri": "https://localhost:8080/"
        },
        "id": "Jzz8ZiEAWeDb",
        "outputId": "e2057de8-f230-4528-8923-082f0bb5f120"
      },
      "execution_count": 35,
      "outputs": [
        {
          "output_type": "execute_result",
          "data": {
            "text/plain": [
              "8.539125638299666"
            ]
          },
          "metadata": {},
          "execution_count": 35
        }
      ]
    },
    {
      "cell_type": "markdown",
      "source": [
        "`Median`"
      ],
      "metadata": {
        "id": "mJNG18IbWfBk"
      }
    },
    {
      "cell_type": "code",
      "source": [
        "np.median(n6)"
      ],
      "metadata": {
        "colab": {
          "base_uri": "https://localhost:8080/"
        },
        "id": "RMEoXobiWguh",
        "outputId": "048234f5-715a-43de-a4a0-9300f6c12118"
      },
      "execution_count": 36,
      "outputs": [
        {
          "output_type": "execute_result",
          "data": {
            "text/plain": [
              "22.5"
            ]
          },
          "metadata": {},
          "execution_count": 36
        }
      ]
    },
    {
      "cell_type": "markdown",
      "source": [
        "**`Saving & Loading Numpy Array`**"
      ],
      "metadata": {
        "id": "Gi0SlVOfYKSt"
      }
    },
    {
      "cell_type": "code",
      "source": [
        "n7= np.array([10,20,30,40,50,60,70])\n",
        "np.save('my_last_numpyArray',n7)"
      ],
      "metadata": {
        "id": "eOeAXFuEVlQZ"
      },
      "execution_count": 38,
      "outputs": []
    },
    {
      "cell_type": "code",
      "source": [
        "n8= np.load('my_last_numpyArray.npy')\n",
        "n8\n"
      ],
      "metadata": {
        "colab": {
          "base_uri": "https://localhost:8080/"
        },
        "id": "c1tcBK4YZLct",
        "outputId": "51425556-78b8-4dbd-ce06-70eb9c9deb5f"
      },
      "execution_count": 41,
      "outputs": [
        {
          "output_type": "execute_result",
          "data": {
            "text/plain": [
              "array([10, 20, 30, 40, 50, 60, 70])"
            ]
          },
          "metadata": {},
          "execution_count": 41
        }
      ]
    }
  ]
}