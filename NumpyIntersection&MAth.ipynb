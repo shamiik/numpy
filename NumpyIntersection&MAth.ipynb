{
  "nbformat": 4,
  "nbformat_minor": 0,
  "metadata": {
    "colab": {
      "provenance": [],
      "authorship_tag": "ABX9TyO2Qu8l9/mpgtrA59mlsUMP",
      "include_colab_link": true
    },
    "kernelspec": {
      "name": "python3",
      "display_name": "Python 3"
    },
    "language_info": {
      "name": "python"
    }
  },
  "cells": [
    {
      "cell_type": "markdown",
      "metadata": {
        "id": "view-in-github",
        "colab_type": "text"
      },
      "source": [
        "<a href=\"https://colab.research.google.com/github/shamiik/numpy/blob/main/NumpyIntersection%26MAth.ipynb\" target=\"_parent\"><img src=\"https://colab.research.google.com/assets/colab-badge.svg\" alt=\"Open In Colab\"/></a>"
      ]
    },
    {
      "cell_type": "markdown",
      "source": [
        "**`Numpy Intersection & Difference`**"
      ],
      "metadata": {
        "id": "DkX68qVXMzyq"
      }
    },
    {
      "cell_type": "code",
      "execution_count": 11,
      "metadata": {
        "id": "rvy4SBEsMoZK"
      },
      "outputs": [],
      "source": [
        "import numpy as np\n",
        "n1 = np.array([10,20,30,40])\n",
        "n2= np.array([30,40,50,60,70])"
      ]
    },
    {
      "cell_type": "code",
      "source": [
        "np.intersect1d(n1,n2)   #common element of n1 & n2"
      ],
      "metadata": {
        "colab": {
          "base_uri": "https://localhost:8080/"
        },
        "id": "JuYrlCsESKcg",
        "outputId": "c5da7795-8f95-4dfc-e3a7-2e9412a28ff9"
      },
      "execution_count": 16,
      "outputs": [
        {
          "output_type": "execute_result",
          "data": {
            "text/plain": [
              "array([30, 40])"
            ]
          },
          "metadata": {},
          "execution_count": 16
        }
      ]
    },
    {
      "cell_type": "code",
      "source": [
        "np.setdiff1d(n1,n2) #unique element of n1 (n1 as 1st parameter)"
      ],
      "metadata": {
        "colab": {
          "base_uri": "https://localhost:8080/"
        },
        "id": "oYeXjUnyRAlO",
        "outputId": "d71dcb15-aea0-497e-b5c5-63f0dfad53c4"
      },
      "execution_count": 8,
      "outputs": [
        {
          "output_type": "execute_result",
          "data": {
            "text/plain": [
              "array([10, 20])"
            ]
          },
          "metadata": {},
          "execution_count": 8
        }
      ]
    },
    {
      "cell_type": "code",
      "source": [
        "np.setdiff1d(n2,n1) #unique element of n2  (n2 as 1st paprameter)"
      ],
      "metadata": {
        "colab": {
          "base_uri": "https://localhost:8080/"
        },
        "id": "n1t7s0XDRo6F",
        "outputId": "f8ad319e-8a33-435f-9cc2-7cf5a34b1692"
      },
      "execution_count": 9,
      "outputs": [
        {
          "output_type": "execute_result",
          "data": {
            "text/plain": [
              "array([50, 60, 70])"
            ]
          },
          "metadata": {},
          "execution_count": 9
        }
      ]
    },
    {
      "cell_type": "markdown",
      "source": [
        "**Numpy Array Addition**"
      ],
      "metadata": {
        "id": "uLVNr62jShtP"
      }
    },
    {
      "cell_type": "code",
      "source": [
        "n3= np.array([10,20])\n",
        "n4= np.array([30,40])"
      ],
      "metadata": {
        "id": "Jbbb7vA2TwJX"
      },
      "execution_count": 17,
      "outputs": []
    },
    {
      "cell_type": "code",
      "source": [
        "np.sum([n3,n4])"
      ],
      "metadata": {
        "colab": {
          "base_uri": "https://localhost:8080/"
        },
        "id": "etcPz4M0UBPQ",
        "outputId": "2df5ec48-b961-4cb1-ed2a-8cd40a7a317e"
      },
      "execution_count": 19,
      "outputs": [
        {
          "output_type": "execute_result",
          "data": {
            "text/plain": [
              "100"
            ]
          },
          "metadata": {},
          "execution_count": 19
        }
      ]
    },
    {
      "cell_type": "code",
      "source": [
        "np.sum([n3,n4],axis=0) #colomn adding"
      ],
      "metadata": {
        "colab": {
          "base_uri": "https://localhost:8080/"
        },
        "id": "Gn1ZUyg-UGry",
        "outputId": "ff5848c4-5936-4442-c7d1-14ea7ec1f772"
      },
      "execution_count": 22,
      "outputs": [
        {
          "output_type": "execute_result",
          "data": {
            "text/plain": [
              "array([40, 60])"
            ]
          },
          "metadata": {},
          "execution_count": 22
        }
      ]
    },
    {
      "cell_type": "code",
      "source": [
        "np.sum([n3,n4],axis=1) #row adding"
      ],
      "metadata": {
        "colab": {
          "base_uri": "https://localhost:8080/"
        },
        "id": "W84aJke_UYGE",
        "outputId": "dd1fa7f8-a5ef-4372-dc5b-f541b0e1997d"
      },
      "execution_count": 23,
      "outputs": [
        {
          "output_type": "execute_result",
          "data": {
            "text/plain": [
              "array([30, 70])"
            ]
          },
          "metadata": {},
          "execution_count": 23
        }
      ]
    }
  ]
}